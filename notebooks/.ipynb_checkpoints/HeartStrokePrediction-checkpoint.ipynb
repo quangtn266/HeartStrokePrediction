{
 "cells": [
  {
   "cell_type": "markdown",
   "id": "ac6c6d86-9b4d-472b-9784-7fed8de81bbf",
   "metadata": {},
   "source": [
    "# Building a Machine learning model pipeline"
   ]
  },
  {
   "cell_type": "code",
   "execution_count": 2,
   "id": "361e8c17-7d2c-4bf5-99f8-ff7fa054490d",
   "metadata": {},
   "outputs": [],
   "source": [
    "import pandas as pd\n",
    "import numpy as np\n",
    "import matplotlib.pyplot as plt\n",
    "from sklearn.model_selection import train_test_split, GridSearchCV, cross_val_score, StratifiedKFold, learning_curve\n",
    "from sklearn.impute import KNNImputer\n",
    "from sklearn.preprocessing import MinMaxScaler\n",
    "from sklearn.preprocessing import OneHotEncoder\n",
    "from sklearn.linear_model import LogisticRegression\n",
    "import pickle"
   ]
  },
  {
   "cell_type": "code",
   "execution_count": 74,
   "id": "cd32978c-9305-44c5-9b51-44938d83aace",
   "metadata": {},
   "outputs": [],
   "source": [
    "pd.options.mode.chained_assignment = None\n",
    "df = pd.read_csv(\"../data/healthcare-dataset-stroke-data.csv\")"
   ]
  },
  {
   "cell_type": "code",
   "execution_count": 75,
   "id": "2b993fe5-efd3-4cb9-afa2-6e1bd1f52478",
   "metadata": {},
   "outputs": [
    {
     "data": {
      "text/html": [
       "<div>\n",
       "<style scoped>\n",
       "    .dataframe tbody tr th:only-of-type {\n",
       "        vertical-align: middle;\n",
       "    }\n",
       "\n",
       "    .dataframe tbody tr th {\n",
       "        vertical-align: top;\n",
       "    }\n",
       "\n",
       "    .dataframe thead th {\n",
       "        text-align: right;\n",
       "    }\n",
       "</style>\n",
       "<table border=\"1\" class=\"dataframe\">\n",
       "  <thead>\n",
       "    <tr style=\"text-align: right;\">\n",
       "      <th></th>\n",
       "      <th>id</th>\n",
       "      <th>gender</th>\n",
       "      <th>age</th>\n",
       "      <th>hypertension</th>\n",
       "      <th>heart_disease</th>\n",
       "      <th>ever_married</th>\n",
       "      <th>work_type</th>\n",
       "      <th>Residence_type</th>\n",
       "      <th>avg_glucose_level</th>\n",
       "      <th>bmi</th>\n",
       "      <th>smoking_status</th>\n",
       "      <th>stroke</th>\n",
       "    </tr>\n",
       "  </thead>\n",
       "  <tbody>\n",
       "    <tr>\n",
       "      <th>0</th>\n",
       "      <td>9046</td>\n",
       "      <td>Male</td>\n",
       "      <td>67.0</td>\n",
       "      <td>0</td>\n",
       "      <td>1</td>\n",
       "      <td>Yes</td>\n",
       "      <td>Private</td>\n",
       "      <td>Urban</td>\n",
       "      <td>228.69</td>\n",
       "      <td>36.6</td>\n",
       "      <td>formerly smoked</td>\n",
       "      <td>1</td>\n",
       "    </tr>\n",
       "    <tr>\n",
       "      <th>1</th>\n",
       "      <td>51676</td>\n",
       "      <td>Female</td>\n",
       "      <td>61.0</td>\n",
       "      <td>0</td>\n",
       "      <td>0</td>\n",
       "      <td>Yes</td>\n",
       "      <td>Self-employed</td>\n",
       "      <td>Rural</td>\n",
       "      <td>202.21</td>\n",
       "      <td>NaN</td>\n",
       "      <td>never smoked</td>\n",
       "      <td>1</td>\n",
       "    </tr>\n",
       "    <tr>\n",
       "      <th>2</th>\n",
       "      <td>31112</td>\n",
       "      <td>Male</td>\n",
       "      <td>80.0</td>\n",
       "      <td>0</td>\n",
       "      <td>1</td>\n",
       "      <td>Yes</td>\n",
       "      <td>Private</td>\n",
       "      <td>Rural</td>\n",
       "      <td>105.92</td>\n",
       "      <td>32.5</td>\n",
       "      <td>never smoked</td>\n",
       "      <td>1</td>\n",
       "    </tr>\n",
       "    <tr>\n",
       "      <th>3</th>\n",
       "      <td>60182</td>\n",
       "      <td>Female</td>\n",
       "      <td>49.0</td>\n",
       "      <td>0</td>\n",
       "      <td>0</td>\n",
       "      <td>Yes</td>\n",
       "      <td>Private</td>\n",
       "      <td>Urban</td>\n",
       "      <td>171.23</td>\n",
       "      <td>34.4</td>\n",
       "      <td>smokes</td>\n",
       "      <td>1</td>\n",
       "    </tr>\n",
       "    <tr>\n",
       "      <th>4</th>\n",
       "      <td>1665</td>\n",
       "      <td>Female</td>\n",
       "      <td>79.0</td>\n",
       "      <td>1</td>\n",
       "      <td>0</td>\n",
       "      <td>Yes</td>\n",
       "      <td>Self-employed</td>\n",
       "      <td>Rural</td>\n",
       "      <td>174.12</td>\n",
       "      <td>24.0</td>\n",
       "      <td>never smoked</td>\n",
       "      <td>1</td>\n",
       "    </tr>\n",
       "  </tbody>\n",
       "</table>\n",
       "</div>"
      ],
      "text/plain": [
       "      id  gender   age  hypertension  heart_disease ever_married  \\\n",
       "0   9046    Male  67.0             0              1          Yes   \n",
       "1  51676  Female  61.0             0              0          Yes   \n",
       "2  31112    Male  80.0             0              1          Yes   \n",
       "3  60182  Female  49.0             0              0          Yes   \n",
       "4   1665  Female  79.0             1              0          Yes   \n",
       "\n",
       "       work_type Residence_type  avg_glucose_level   bmi   smoking_status  \\\n",
       "0        Private          Urban             228.69  36.6  formerly smoked   \n",
       "1  Self-employed          Rural             202.21   NaN     never smoked   \n",
       "2        Private          Rural             105.92  32.5     never smoked   \n",
       "3        Private          Urban             171.23  34.4           smokes   \n",
       "4  Self-employed          Rural             174.12  24.0     never smoked   \n",
       "\n",
       "   stroke  \n",
       "0       1  \n",
       "1       1  \n",
       "2       1  \n",
       "3       1  \n",
       "4       1  "
      ]
     },
     "execution_count": 75,
     "metadata": {},
     "output_type": "execute_result"
    }
   ],
   "source": [
    "df.head(5)"
   ]
  },
  {
   "cell_type": "code",
   "execution_count": 76,
   "id": "5116c988-0582-4af6-b195-6d0661d07cb6",
   "metadata": {},
   "outputs": [
    {
     "data": {
      "text/plain": [
       "array(['Private', 'Self-employed', 'Govt_job', 'children', 'Never_worked'],\n",
       "      dtype=object)"
      ]
     },
     "execution_count": 76,
     "metadata": {},
     "output_type": "execute_result"
    }
   ],
   "source": [
    "df['work_type'].unique()"
   ]
  },
  {
   "cell_type": "code",
   "execution_count": 77,
   "id": "3159630d-01dc-4bdc-afd3-d0a42cdb5540",
   "metadata": {},
   "outputs": [],
   "source": [
    "## Split and format dataframe\n",
    "def split_train_test(df):\n",
    "\n",
    "    X = df.iloc[:,:-1]\n",
    "    Y = df.iloc[:, -1]\n",
    "    xtrain, xtest, ytrain, ytest = train_test_split(X, Y, random_state=43, test_size=0.33)\n",
    "    xtrain.to_csv(\"../data/stroke_prediction_train.csv\")\n",
    "    xtest.to_csv(\"../data/stroke_prediction_test.csv\")\n",
    "\n",
    "    return xtrain, xtest, ytrain, ytest"
   ]
  },
  {
   "cell_type": "code",
   "execution_count": 78,
   "id": "55dfd2c5-1964-41e8-9665-7442f2839e77",
   "metadata": {},
   "outputs": [],
   "source": [
    "## format dataframe\n",
    "def reformat_work_type(df):\n",
    "    df[\"work_type\"] = df[\"work_type\"].replace(\"Self-employed\", \"Self employed\")\n",
    "    df[\"work_type\"] = df[\"work_type\"].replace(\"Govt_job\", \"Govt job\")\n",
    "    df[\"work_type\"] = df[\"work_type\"].replace(\"children\", \"Children\")\n",
    "    df[\"work_type\"] = df[\"work_type\"].replace(\"Never_worked\", \"Never worked\")\n",
    "\n",
    "    return df"
   ]
  },
  {
   "cell_type": "code",
   "execution_count": 79,
   "id": "4ad00964-7729-415d-a059-4d9eb0382d9e",
   "metadata": {},
   "outputs": [],
   "source": [
    "## rename column\n",
    "def rename_columns(df):\n",
    "    df = df.rename(columns={\"heart_disease\": \"heart disease\",\n",
    "        \"avg_glucose_level\": \"avg glucose level\", \"ever_married\": \"ever married\",\n",
    "        \"Residence_type\": \"residence type\", \"work_type\": \"work type\",\n",
    "        \"smoking_status\": \"smoking status\"})\n",
    "\n",
    "    return df"
   ]
  },
  {
   "cell_type": "code",
   "execution_count": 80,
   "id": "0292e4c3-ecce-4615-be01-012ffb9d276e",
   "metadata": {},
   "outputs": [],
   "source": [
    "def format_df(df):\n",
    "    xtrain, xtest, ytrain, ytest = split_train_test(df)\n",
    "    xtrain = reformat_work_type(xtrain)\n",
    "    xtrain = rename_columns(xtrain)\n",
    "\n",
    "    #xtest = reformat_work_type(xtest)\n",
    "    #xtest = rename_columns(xtest)\n",
    "    \n",
    "    return xtrain, xtest, ytrain, ytest"
   ]
  },
  {
   "cell_type": "code",
   "execution_count": 81,
   "id": "b669c22d-1d58-49ee-9056-6389e8dc504f",
   "metadata": {},
   "outputs": [],
   "source": [
    "def format_inference_df(df):\n",
    "    df = reformat_work_type(df)\n",
    "    df = rename_columns(df)\n",
    "    \n",
    "    return df"
   ]
  },
  {
   "cell_type": "markdown",
   "id": "e7e95aa3-0d72-4d76-8b60-22fa71b40c74",
   "metadata": {},
   "source": [
    "## Preprocessing"
   ]
  },
  {
   "cell_type": "markdown",
   "id": "360ff43e-f34b-468a-8ecb-04ec43f3a9a1",
   "metadata": {},
   "source": [
    "### Outliers and missing values"
   ]
  },
  {
   "cell_type": "code",
   "execution_count": 82,
   "id": "857e5b39-0fc3-4d25-bb47-4c9527855ef2",
   "metadata": {},
   "outputs": [],
   "source": [
    "def remove_outliers(df):\n",
    "    upper_fence_age = df[\"age\"].mean() + 3*df[\"age\"].std()\n",
    "    lower_fence_age = df[\"age\"].mean() - 3*df[\"age\"].std()\n",
    "\n",
    "    age_index = df[(df[\"age\"] > upper_fence_age) | (df[\"age\"] < lower_fence_age)].index.tolist()\n",
    "\n",
    "    upper_fence_glucose = df[\"avg_glucose_level\"].mean() + 3*df[\"avg_glucose_level\"].std()\n",
    "    lower_fence_glucose = df[\"avg_glucose_level\"].mean() - 3*df[\"avg_glucose_level\"].std()\n",
    "\n",
    "    glucose_index = df[(df[\"avg_glucose_level\"] > upper_fence_glucose | df[\"avg_glucose_level\"] < lower_fence_glucose)].index.tolist()\n",
    "\n",
    "    upper_fence_bmi = df[\"bmi\"].mean() + 3*df[\"bmi\"].std()\n",
    "    lower_fence_bmi = df[\"bmi\"].mean() - 3*df[\"bmi\"].std()\n",
    "\n",
    "    bmi_index = df[(df[\"bmi\"] > upper_fence_bmi | df[\"bmi\"] < lower_fence_bmi)].index.tolist()\n",
    "\n",
    "    index_to_be_removed = bmi_index + age_index + glucose_index\n",
    "\n",
    "    df = df.drop(index=index_to_be_removed)\n",
    "\n",
    "    return df"
   ]
  },
  {
   "cell_type": "code",
   "execution_count": 83,
   "id": "62f056d9-b7df-4f88-a323-4503eb98a489",
   "metadata": {},
   "outputs": [],
   "source": [
    "def fit_KNN_missing_values(df):\n",
    "    file = \"../models/imputer_KNN.pkl\"\n",
    "    imputer = KNNImputer(n_neighbors=5)\n",
    "    imputer.fit(df[[\"bmi\"]])\n",
    "    pickle.dump(imputer, open(file, \"wb\"))\n",
    "\n",
    "    return df"
   ]
  },
  {
   "cell_type": "code",
   "execution_count": 84,
   "id": "0e9581dd-3902-45e3-99c2-dc2fb9c94fcc",
   "metadata": {},
   "outputs": [],
   "source": [
    "def transform_imputer(df):\n",
    "    file = \"../models/imputer_KNN.pkl\"\n",
    "    imputer = pickle.load(open(file, \"rb\"))\n",
    "    df[\"bmi\"] = imputer.transform(df[[\"bmi\"]])\n",
    "    \n",
    "    return df"
   ]
  },
  {
   "cell_type": "markdown",
   "id": "29d97ef5-c10f-4e30-a123-4e87076ea413",
   "metadata": {},
   "source": [
    "## Feature Engineering"
   ]
  },
  {
   "cell_type": "code",
   "execution_count": 85,
   "id": "23ee69f5-d3e6-4c65-833b-8bb3b6287af3",
   "metadata": {},
   "outputs": [],
   "source": [
    "def preprocess_gender(df):\n",
    "    df = df.replace(\"Male\", 0)\n",
    "    df = df.replace(\"Female\", 1)\n",
    "    other_index = df[df[\"gender\"] == \"Other\"].index\n",
    "    df = df.drop(other_index)\n",
    "    \n",
    "    return df, other_index"
   ]
  },
  {
   "cell_type": "code",
   "execution_count": 86,
   "id": "c5ae8e93-b676-4b10-b2cb-39e4c31ab573",
   "metadata": {},
   "outputs": [],
   "source": [
    "def preprocess_ever_married(df):\n",
    "    df = df.replace(\"no\", 0)\n",
    "    df = df.replace(\"yes\", 1)\n",
    "    \n",
    "    return df"
   ]
  },
  {
   "cell_type": "code",
   "execution_count": 87,
   "id": "25458052-566a-424d-9b34-0b5f933d94c5",
   "metadata": {},
   "outputs": [],
   "source": [
    "def fit_scaler(df):\n",
    "    cols = [\"age\", \"avg glucose level\", \"bmi\"]\n",
    "    file = \"../models/Scaler.pkl\"\n",
    "    scaler = MinMaxScaler()\n",
    "    scaler.fit(df[cols])\n",
    "    pickle.dump(scaler, open(file, \"wb\"))"
   ]
  },
  {
   "cell_type": "code",
   "execution_count": 88,
   "id": "0abfc71e-9d9c-4879-9aab-55807c5a80b9",
   "metadata": {},
   "outputs": [],
   "source": [
    "def transform_scaler(df):\n",
    "    cols = [\"age\", \"avg glucose level\", \"bmi\"]\n",
    "    file = \"../models/Scaler.pkl\"\n",
    "    scaler = pickle.load(open(file, \"rb\"))\n",
    "    df[cols] = scaler.transform(df[cols])\n",
    "    return df"
   ]
  },
  {
   "cell_type": "code",
   "execution_count": 89,
   "id": "ecdf0086-e5ca-414d-998a-fdd496258c08",
   "metadata": {},
   "outputs": [],
   "source": [
    "def preprocess_residence(df):\n",
    "    df = df.replace(\"Urban\", 0)\n",
    "    df = df.replace(\"Rural\", 1)\n",
    "    \n",
    "    return df"
   ]
  },
  {
   "cell_type": "code",
   "execution_count": 90,
   "id": "a58fb7fa-a62c-4f23-803e-7caa38c8d706",
   "metadata": {},
   "outputs": [],
   "source": [
    "def preprocess_ever_maried(df):\n",
    "    df = df.replace(\"Yes\", 0)\n",
    "    df = df.replace(\"No\", 1)\n",
    "\n",
    "    return df"
   ]
  },
  {
   "cell_type": "code",
   "execution_count": 91,
   "id": "feb7aff3-b312-41c9-8208-0d19b9880335",
   "metadata": {},
   "outputs": [],
   "source": [
    "def fit_encoder(df):\n",
    "    file = \"../models/OneHot.pkl\"\n",
    "    enc = OneHotEncoder(handle_unknown=\"ignore\", sparse=False)\n",
    "    enc.fit(df[[\"work type\", \"smoking status\"]])\n",
    "\n",
    "    pickle.dump(enc, open(file, \"wb\"))"
   ]
  },
  {
   "cell_type": "code",
   "execution_count": 92,
   "id": "16ac520c-a188-4289-8ce8-ed5c93bf39df",
   "metadata": {},
   "outputs": [],
   "source": [
    "def transform_encoder(df):\n",
    "    file = \"../models/OneHot.pkl\"\n",
    "    enc = pickle.load(open(file, \"rb\"))\n",
    "    list_name = enc.get_feature_names_out([\"work type\", \"smoking status\"])\n",
    "    df[list_name] = enc.transform(df[[\"work type\", \"smoking status\"]])\n",
    "    df = df.drop(columns=[\"work type\", \"smoking status\"])\n",
    "\n",
    "    return df"
   ]
  },
  {
   "cell_type": "code",
   "execution_count": 93,
   "id": "4f8258f1-bff5-48be-af46-16f254691df5",
   "metadata": {},
   "outputs": [],
   "source": [
    "def fit_scaler_encoder(df):\n",
    "    fit_KNN_missing_values(df)\n",
    "    fit_encoder(df)\n",
    "    fit_scaler(df)\n",
    "\n",
    "def transform_scaler_encoder(df):\n",
    "    df = transform_imputer(df)\n",
    "    df = transform_encoder(df)\n",
    "    df = transform_scaler(df)\n",
    "\n",
    "    return df"
   ]
  },
  {
   "cell_type": "markdown",
   "id": "c6da1301-1c91-4cc1-a774-69f78dbf8f67",
   "metadata": {},
   "source": [
    "### Removing Ids and Building model"
   ]
  },
  {
   "cell_type": "code",
   "execution_count": 94,
   "id": "c95ead5a-887c-4ae4-99b5-520b2e669d9b",
   "metadata": {},
   "outputs": [],
   "source": [
    "def store_id(df):\n",
    "    df_ids = df[\"id\"]\n",
    "    df = df.drop(columns=[\"id\"])\n",
    "    return df_ids, df"
   ]
  },
  {
   "cell_type": "code",
   "execution_count": 95,
   "id": "6387fae2-61aa-48f3-a27c-6910676fdbac",
   "metadata": {},
   "outputs": [],
   "source": [
    "def build_model(xtrain, ytrain):\n",
    "    file = \"../models/classifier.pkl\"\n",
    "    kfold = StratifiedKFold(n_splits=10)\n",
    "    clf = LogisticRegression()\n",
    "    clf.fit(xtrain, ytrain)\n",
    "    pickle.dump(clf, open(file, \"wb\"))"
   ]
  },
  {
   "cell_type": "markdown",
   "id": "fd115123-fb8b-45fd-9bf7-28d865fdaf7e",
   "metadata": {},
   "source": [
    "### Creating a pipeline train"
   ]
  },
  {
   "cell_type": "code",
   "execution_count": 96,
   "id": "c0da1f4b-2304-41b2-9246-6c353e78e8e6",
   "metadata": {},
   "outputs": [],
   "source": [
    "def pipeline_train(df):\n",
    "    xtrain, xtest, ytrain, ytest = format_df(df)\n",
    "    fit_scaler_encoder(xtrain)\n",
    "    xtrain = transform_scaler_encoder(xtrain)\n",
    "    xtrain, ind = preprocess_gender(xtrain)\n",
    "    ytrain = ytrain.drop(index=ind)\n",
    "    xtrain = preprocess_ever_maried(xtrain)\n",
    "    xtrain = preprocess_residence(xtrain)\n",
    "    ids, xtrain = store_id(xtrain)\n",
    "    \n",
    "    return xtrain, ytrain, xtest, ytest"
   ]
  },
  {
   "cell_type": "markdown",
   "id": "6fac31df-91e6-45c5-98dd-100f1b31ee11",
   "metadata": {},
   "source": [
    "### Creating a pipeline test"
   ]
  },
  {
   "cell_type": "code",
   "execution_count": 97,
   "id": "31dc4aec-0971-4c5e-a27a-9d07cf627c0e",
   "metadata": {},
   "outputs": [],
   "source": [
    "def pipeline_test(df):\n",
    "    df = format_inference_df(df)\n",
    "    \n",
    "    if df[\"bmi\"].isnull().sum() > 0:\n",
    "        df = transform_imputer(df)\n",
    "\n",
    "    df, ind = preprocess_gender(df)\n",
    "    df = preprocess_ever_maried(df)\n",
    "    df = preprocess_residence(df)\n",
    "    df = transform_scaler_encoder(df)\n",
    "\n",
    "    ids, df = store_id(df)\n",
    "\n",
    "    return df"
   ]
  },
  {
   "cell_type": "code",
   "execution_count": 98,
   "id": "bac81ad5-935b-4cf5-a70a-7a8b422a18b7",
   "metadata": {},
   "outputs": [],
   "source": [
    "def make_model_train(df):\n",
    "    xtrain, ytrain, xtest, ytest = pipeline_train(df)\n",
    "    build_model(xtrain, ytrain)\n",
    "\n",
    "    return xtest, ytest"
   ]
  },
  {
   "cell_type": "code",
   "execution_count": 99,
   "id": "20b05055-15d1-4cdf-bc99-2a298aed8e61",
   "metadata": {},
   "outputs": [],
   "source": [
    "def evaluate_model(xtest, ytest):\n",
    "    xtest = pipeline_test(xtest)\n",
    "    file = \"../models/classifier.pkl\"\n",
    "    clf = pickle.load(open(file, \"rb\"))\n",
    "\n",
    "    return clf.score(xtest, ytest)"
   ]
  },
  {
   "cell_type": "code",
   "execution_count": 100,
   "id": "58d0e30a-3914-4f88-a739-2f78f20d6c7d",
   "metadata": {},
   "outputs": [
    {
     "name": "stderr",
     "output_type": "stream",
     "text": [
      "/Users/quangtn/opt/anaconda3/envs/bentoML/lib/python3.8/site-packages/sklearn/preprocessing/_encoders.py:975: FutureWarning: `sparse` was renamed to `sparse_output` in version 1.2 and will be removed in 1.4. `sparse_output` is ignored unless you leave `sparse` to its default value.\n",
      "  warnings.warn(\n"
     ]
    }
   ],
   "source": [
    "xtest, ytest = make_model_train(df)"
   ]
  },
  {
   "cell_type": "code",
   "execution_count": 108,
   "id": "b8812afb-48f9-42cd-8f9c-487ca2cb9ab9",
   "metadata": {},
   "outputs": [],
   "source": [
    "def make_prediction(X):\n",
    "    X = pipeline_test(X)\n",
    "    file = \"/Users/quangtn/Desktop/01_work/01_job/02_ml/PySpark/HeartStrokePrediction/models/classifier.pkl\"\n",
    "    clf = pickle.load(open(file, \"rb\"))\n",
    "\n",
    "    return clf.predict(X)"
   ]
  },
  {
   "cell_type": "code",
   "execution_count": 109,
   "id": "e0133a76-ae20-403e-affd-dd968924cace",
   "metadata": {},
   "outputs": [
    {
     "data": {
      "text/plain": [
       "array([0, 0, 0, ..., 0, 0, 0])"
      ]
     },
     "execution_count": 109,
     "metadata": {},
     "output_type": "execute_result"
    }
   ],
   "source": [
    "make_prediction(xtest)"
   ]
  },
  {
   "cell_type": "code",
   "execution_count": 103,
   "id": "bde1966c-9bbc-45ef-abb0-d8708eb91bb9",
   "metadata": {},
   "outputs": [
    {
     "data": {
      "text/html": [
       "<div>\n",
       "<style scoped>\n",
       "    .dataframe tbody tr th:only-of-type {\n",
       "        vertical-align: middle;\n",
       "    }\n",
       "\n",
       "    .dataframe tbody tr th {\n",
       "        vertical-align: top;\n",
       "    }\n",
       "\n",
       "    .dataframe thead th {\n",
       "        text-align: right;\n",
       "    }\n",
       "</style>\n",
       "<table border=\"1\" class=\"dataframe\">\n",
       "  <thead>\n",
       "    <tr style=\"text-align: right;\">\n",
       "      <th></th>\n",
       "      <th>id</th>\n",
       "      <th>gender</th>\n",
       "      <th>age</th>\n",
       "      <th>hypertension</th>\n",
       "      <th>heart_disease</th>\n",
       "      <th>ever_married</th>\n",
       "      <th>work_type</th>\n",
       "      <th>Residence_type</th>\n",
       "      <th>avg_glucose_level</th>\n",
       "      <th>bmi</th>\n",
       "      <th>smoking_status</th>\n",
       "    </tr>\n",
       "  </thead>\n",
       "  <tbody>\n",
       "    <tr>\n",
       "      <th>2342</th>\n",
       "      <td>28258</td>\n",
       "      <td>Female</td>\n",
       "      <td>80.0</td>\n",
       "      <td>0</td>\n",
       "      <td>0</td>\n",
       "      <td>Yes</td>\n",
       "      <td>Self employed</td>\n",
       "      <td>Urban</td>\n",
       "      <td>75.06</td>\n",
       "      <td>29.7</td>\n",
       "      <td>Unknown</td>\n",
       "    </tr>\n",
       "    <tr>\n",
       "      <th>2805</th>\n",
       "      <td>35759</td>\n",
       "      <td>Female</td>\n",
       "      <td>16.0</td>\n",
       "      <td>0</td>\n",
       "      <td>0</td>\n",
       "      <td>No</td>\n",
       "      <td>Private</td>\n",
       "      <td>Rural</td>\n",
       "      <td>92.77</td>\n",
       "      <td>24.9</td>\n",
       "      <td>Unknown</td>\n",
       "    </tr>\n",
       "    <tr>\n",
       "      <th>3986</th>\n",
       "      <td>18134</td>\n",
       "      <td>Male</td>\n",
       "      <td>10.0</td>\n",
       "      <td>0</td>\n",
       "      <td>0</td>\n",
       "      <td>No</td>\n",
       "      <td>Children</td>\n",
       "      <td>Rural</td>\n",
       "      <td>95.80</td>\n",
       "      <td>17.3</td>\n",
       "      <td>Unknown</td>\n",
       "    </tr>\n",
       "    <tr>\n",
       "      <th>4740</th>\n",
       "      <td>70677</td>\n",
       "      <td>Male</td>\n",
       "      <td>60.0</td>\n",
       "      <td>0</td>\n",
       "      <td>0</td>\n",
       "      <td>Yes</td>\n",
       "      <td>Private</td>\n",
       "      <td>Rural</td>\n",
       "      <td>234.45</td>\n",
       "      <td>36.8</td>\n",
       "      <td>formerly smoked</td>\n",
       "    </tr>\n",
       "  </tbody>\n",
       "</table>\n",
       "</div>"
      ],
      "text/plain": [
       "         id  gender   age  hypertension  heart_disease ever_married  \\\n",
       "2342  28258  Female  80.0             0              0          Yes   \n",
       "2805  35759  Female  16.0             0              0           No   \n",
       "3986  18134    Male  10.0             0              0           No   \n",
       "4740  70677    Male  60.0             0              0          Yes   \n",
       "\n",
       "          work_type Residence_type  avg_glucose_level   bmi   smoking_status  \n",
       "2342  Self employed          Urban              75.06  29.7          Unknown  \n",
       "2805        Private          Rural              92.77  24.9          Unknown  \n",
       "3986       Children          Rural              95.80  17.3          Unknown  \n",
       "4740        Private          Rural             234.45  36.8  formerly smoked  "
      ]
     },
     "execution_count": 103,
     "metadata": {},
     "output_type": "execute_result"
    }
   ],
   "source": [
    "xtest.head(4)"
   ]
  }
 ],
 "metadata": {
  "kernelspec": {
   "display_name": "Python 3 (ipykernel)",
   "language": "python",
   "name": "python3"
  },
  "language_info": {
   "codemirror_mode": {
    "name": "ipython",
    "version": 3
   },
   "file_extension": ".py",
   "mimetype": "text/x-python",
   "name": "python",
   "nbconvert_exporter": "python",
   "pygments_lexer": "ipython3",
   "version": "3.8.18"
  }
 },
 "nbformat": 4,
 "nbformat_minor": 5
}
